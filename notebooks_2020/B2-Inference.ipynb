{
 "cells": [
  {
   "cell_type": "markdown",
   "metadata": {},
   "source": [
    "[Download the slides from here.](https://www.dropbox.com/s/fvhuqm1nmxevg8o/B2-Inference.pdf?dl=0)\n",
    "\n",
    "<img src=\"https://cdn.shopify.com/s/files/1/0070/7032/files/what-is-ab-testing.jpg?v=1556764132&width=1024\" width=500>\n",
    "\n",
    "Randomized Controlled Trials\n",
    "---------\n",
    "\n",
    "**Inference**\n",
    "\n",
    "Last time, we looked at significance testing by retreating to the very first test. It was a biggie - a question of divine intervention. \"Does God Exist?\" It might seem antique, but there's something very simple to hold on to in this example -- it let us examine the basic testing framework. \n",
    "\n",
    "Let's now look at Hill's data. He was studying whether an antibiotic, Streptomycin, was better than bed rest for treating tuberculosis. Let's read in his data using `read.csv()` as we did last time for the COVID Tracking data. This time, I've created a data set and stored it on GitHub. "
   ]
  },
  {
   "cell_type": "code",
   "execution_count": 1,
   "metadata": {},
   "outputs": [
    {
     "data": {
      "text/html": [
       "<table>\n",
       "<thead><tr><th scope=col>outcome</th><th scope=col>treatment</th></tr></thead>\n",
       "<tbody>\n",
       "\t<tr><td>survived</td><td>control </td></tr>\n",
       "\t<tr><td>survived</td><td>control </td></tr>\n",
       "\t<tr><td>survived</td><td>control </td></tr>\n",
       "\t<tr><td>survived</td><td>control </td></tr>\n",
       "\t<tr><td>survived</td><td>control </td></tr>\n",
       "\t<tr><td>survived</td><td>control </td></tr>\n",
       "</tbody>\n",
       "</table>\n"
      ],
      "text/latex": [
       "\\begin{tabular}{r|ll}\n",
       " outcome & treatment\\\\\n",
       "\\hline\n",
       "\t survived & control \\\\\n",
       "\t survived & control \\\\\n",
       "\t survived & control \\\\\n",
       "\t survived & control \\\\\n",
       "\t survived & control \\\\\n",
       "\t survived & control \\\\\n",
       "\\end{tabular}\n"
      ],
      "text/markdown": [
       "\n",
       "outcome | treatment | \n",
       "|---|---|---|---|---|---|\n",
       "| survived | control  | \n",
       "| survived | control  | \n",
       "| survived | control  | \n",
       "| survived | control  | \n",
       "| survived | control  | \n",
       "| survived | control  | \n",
       "\n",
       "\n"
      ],
      "text/plain": [
       "  outcome  treatment\n",
       "1 survived control  \n",
       "2 survived control  \n",
       "3 survived control  \n",
       "4 survived control  \n",
       "5 survived control  \n",
       "6 survived control  "
      ]
     },
     "metadata": {},
     "output_type": "display_data"
    }
   ],
   "source": [
    "hill <- read.csv(\"https://github.com/cocteau/breakfasts/raw/master/data/hill.csv\")\n",
    "head(hill)"
   ]
  },
  {
   "cell_type": "markdown",
   "metadata": {},
   "source": [
    "The function `head()` gives you the first six rows of our data, while `tail()` gives you the last six. You can change how many you see by adding an \"argument\" to the call. "
   ]
  },
  {
   "cell_type": "code",
   "execution_count": 4,
   "metadata": {},
   "outputs": [
    {
     "data": {
      "text/html": [
       "<table>\n",
       "<thead><tr><th></th><th scope=col>outcome</th><th scope=col>treatment</th></tr></thead>\n",
       "<tbody>\n",
       "\t<tr><th scope=row>102</th><td>survived  </td><td>penicillin</td></tr>\n",
       "\t<tr><th scope=row>103</th><td>survived  </td><td>penicillin</td></tr>\n",
       "\t<tr><th scope=row>104</th><td>died      </td><td>penicillin</td></tr>\n",
       "\t<tr><th scope=row>105</th><td>died      </td><td>penicillin</td></tr>\n",
       "\t<tr><th scope=row>106</th><td>died      </td><td>penicillin</td></tr>\n",
       "\t<tr><th scope=row>107</th><td>died      </td><td>penicillin</td></tr>\n",
       "</tbody>\n",
       "</table>\n"
      ],
      "text/latex": [
       "\\begin{tabular}{r|ll}\n",
       "  & outcome & treatment\\\\\n",
       "\\hline\n",
       "\t102 & survived   & penicillin\\\\\n",
       "\t103 & survived   & penicillin\\\\\n",
       "\t104 & died       & penicillin\\\\\n",
       "\t105 & died       & penicillin\\\\\n",
       "\t106 & died       & penicillin\\\\\n",
       "\t107 & died       & penicillin\\\\\n",
       "\\end{tabular}\n"
      ],
      "text/markdown": [
       "\n",
       "| <!--/--> | outcome | treatment | \n",
       "|---|---|---|---|---|---|\n",
       "| 102 | survived   | penicillin | \n",
       "| 103 | survived   | penicillin | \n",
       "| 104 | died       | penicillin | \n",
       "| 105 | died       | penicillin | \n",
       "| 106 | died       | penicillin | \n",
       "| 107 | died       | penicillin | \n",
       "\n",
       "\n"
      ],
      "text/plain": [
       "    outcome  treatment \n",
       "102 survived penicillin\n",
       "103 survived penicillin\n",
       "104 died     penicillin\n",
       "105 died     penicillin\n",
       "106 died     penicillin\n",
       "107 died     penicillin"
      ]
     },
     "metadata": {},
     "output_type": "display_data"
    }
   ],
   "source": [
    "tail(hill)"
   ]
  },
  {
   "cell_type": "code",
   "execution_count": 5,
   "metadata": {},
   "outputs": [
    {
     "data": {
      "text/html": [
       "<table>\n",
       "<thead><tr><th></th><th scope=col>outcome</th><th scope=col>treatment</th></tr></thead>\n",
       "<tbody>\n",
       "\t<tr><th scope=row>105</th><td>died      </td><td>penicillin</td></tr>\n",
       "\t<tr><th scope=row>106</th><td>died      </td><td>penicillin</td></tr>\n",
       "\t<tr><th scope=row>107</th><td>died      </td><td>penicillin</td></tr>\n",
       "</tbody>\n",
       "</table>\n"
      ],
      "text/latex": [
       "\\begin{tabular}{r|ll}\n",
       "  & outcome & treatment\\\\\n",
       "\\hline\n",
       "\t105 & died       & penicillin\\\\\n",
       "\t106 & died       & penicillin\\\\\n",
       "\t107 & died       & penicillin\\\\\n",
       "\\end{tabular}\n"
      ],
      "text/markdown": [
       "\n",
       "| <!--/--> | outcome | treatment | \n",
       "|---|---|---|\n",
       "| 105 | died       | penicillin | \n",
       "| 106 | died       | penicillin | \n",
       "| 107 | died       | penicillin | \n",
       "\n",
       "\n"
      ],
      "text/plain": [
       "    outcome treatment \n",
       "105 died    penicillin\n",
       "106 died    penicillin\n",
       "107 died    penicillin"
      ]
     },
     "metadata": {},
     "output_type": "display_data"
    }
   ],
   "source": [
    "tail(hill,3)"
   ]
  },
  {
   "cell_type": "markdown",
   "metadata": {},
   "source": [
    "We can make the table we've been looking at in slides with a `table()` command."
   ]
  },
  {
   "cell_type": "code",
   "execution_count": 6,
   "metadata": {},
   "outputs": [
    {
     "data": {
      "text/plain": [
       "          treatment\n",
       "outcome    control penicillin\n",
       "  died          14          4\n",
       "  survived      38         51"
      ]
     },
     "metadata": {},
     "output_type": "display_data"
    }
   ],
   "source": [
    "table(hill)"
   ]
  },
  {
   "cell_type": "markdown",
   "metadata": {},
   "source": [
    "Again, we see that 14/52 died on the control whereas only 5/55 died on penicillin. That seems pretty good, but could this be the result of randomness? That is, could we have seen these results simply by chance?\n",
    "\n",
    "The chance mechanism at work here is **the randomization into penicillin or control**, something Hill advocated to prevent physician bias, and Fisher argued was the soul of the statistical enterprise. Randomization gives us a yardstick to measure the significance of an event against. \n",
    "\n",
    "Walking through our testing steps, we need a **null hypothesis** or \"straw man\". The one in play here is the assumption that both the control and penicillin are essential the same when it comes to treating TB. For example, the people who died on in the control group would have died if they received penicillin, and those who survived under penicillin would have also survived if they were simply given bedrest, the control.\n",
    "\n",
    ">Under the null hypothesis, each person's outcome, whether they lived or died, would have been the same no matter whether they received penicillin or bed rest. That's our straw man, our devil's advocate. \n",
    "\n",
    "So reasoning under the null, everything in that table was the result of randomization. You can imagine that Hill had a total of 107 people, 18 of whom were destined to die no matter what treatment he gave them. By pure luck, fewer people who ultimately died of TB landed in the penicillin group. We could then take as **our test statistic** the number of people who died in the penicillin group and ask how often does randomization produce a table where 4 people or fewer die while receiving penicillin? \n",
    "\n",
    "*If that is a pretty common occurrence*, then we would say that the data don't seem inconsistent with the null and we would think about what happened and whether penicillin is as beneficial as we thought. *If it is an uncommon occurrence*, we could take it as evidence that our null hypothesis is wrong, that the two treatments are not the same. \n",
    "\n",
    "To create our null distribution, let's try rerandomizing people into penicillin or bed rest, since under the null hypothesis no matter what treatment we gave them they would have lived or died just as they did in Hill's study.\n",
    "\n",
    "In the code below, we copy the data set `hill` and make a new, identical data frame (first cell). We then take the treatment column and replace it with a mixed up version of the original (second cell). That is, we put all the treatments in a hat (55 \"control\" and 57 \"penicillin\") and draw them out one at a time, assigning or reassigning them one-by-one to the patients. **Each of the 107 patients is re-randomized.** The defaults for `sample()` are to draw everything from the hat without replacement.\n",
    "\n",
    "And because the null hypothesis assumes these two treatments performing identically, the patients would have lived or died exactly as they did in Hill's table. Hence we have repeated his experiment with a different randomization. **So, let's look at some of the experiments that Hill didn't run, but are equally legit under the null.**\n",
    "\n",
    "Exercise the code below a few times. You only have to do the first cell once, and then just overwrite the treatment column over and over."
   ]
  },
  {
   "cell_type": "code",
   "execution_count": 14,
   "metadata": {},
   "outputs": [],
   "source": [
    "newhill <- hill"
   ]
  },
  {
   "cell_type": "code",
   "execution_count": 15,
   "metadata": {},
   "outputs": [
    {
     "data": {
      "text/plain": [
       "          treatment\n",
       "outcome    control penicillin\n",
       "  died           9          9\n",
       "  survived      43         46"
      ]
     },
     "metadata": {},
     "output_type": "display_data"
    }
   ],
   "source": [
    "# do this a few times and watch the count of people in the \"died\"-\"penicillin\" cell\n",
    "\n",
    "newhill$treatment <- sample(hill$treatment)\n",
    "table(newhill)"
   ]
  },
  {
   "cell_type": "markdown",
   "metadata": {},
   "source": [
    "What do you see? The table bounces around a bit. Let's start keeping track of how many people die on penicillin each time we do this. And make a histogram of the null distribution as before."
   ]
  },
  {
   "cell_type": "code",
   "execution_count": 12,
   "metadata": {},
   "outputs": [],
   "source": [
    "# create a \"vector\" called \"newtrials\" of length 10,000 to hold our test \n",
    "# statistics - we are re-randomizing 10,000 times\n",
    "\n",
    "newtrials <- rep(0,10000)\n",
    "\n",
    "# perform our re-randomization with the sample() command and count how many patients died\n",
    "# on the Streptomycin\n",
    "\n",
    "for(i in 1:10000){\n",
    "\n",
    "    newhill$treatment <- sample(hill$treatment)\n",
    "    newtrials[i] <- table(newhill)[1,2]\n",
    "}"
   ]
  },
  {
   "cell_type": "markdown",
   "metadata": {},
   "source": [
    "The only thing new here is the `[1,2]`. What that's doing is taking our table of experimental results and plucking out the element in the first row and second column. This is old-school subsetting of data. The element in the first row, second column is the count of people who died on Streptomycin, our test statistic.\n",
    "\n",
    "R supports some amazingly beautiful graphics, but at this first step, we just want an image and so we are going to use one of the more crude graphical tools for making a histogram, `hist()`. Oh and what is a histogram?"
   ]
  },
  {
   "cell_type": "code",
   "execution_count": 13,
   "metadata": {},
   "outputs": [
    {
     "data": {
      "image/png": "[encoded data removed]",
      "text/plain": [
       "Plot with title “Histogram of newtrials”"
      ]
     },
     "metadata": {},
     "output_type": "display_data"
    }
   ],
   "source": [
    "hist(newtrials)"
   ]
  },
  {
   "cell_type": "markdown",
   "metadata": {},
   "source": [
    "What do you notice? How likely are we to see a 4 or fewer deaths from penicilin just by chance? That is, under the null hypothesis, how likely is a table that is as or more extreme in favor of penicillin than the one we saw?\n",
    "\n",
    "R has a series of \"logical operators\" that let you make comparisons between data values. Here we can use `<=` \"less than or equal to\" to see which of our simulations in `newtrials` is less than or equal to four -- TRUE if so, FALSE if not. Here's the first 100 simulations."
   ]
  },
  {
   "cell_type": "code",
   "execution_count": 17,
   "metadata": {},
   "outputs": [
    {
     "data": {
      "text/html": [
       "<ol class=list-inline>\n",
       "\t<li>FALSE</li>\n",
       "\t<li>FALSE</li>\n",
       "\t<li>FALSE</li>\n",
       "\t<li>FALSE</li>\n",
       "\t<li>FALSE</li>\n",
       "\t<li>FALSE</li>\n",
       "\t<li>FALSE</li>\n",
       "\t<li>FALSE</li>\n",
       "\t<li>FALSE</li>\n",
       "\t<li>FALSE</li>\n",
       "\t<li>FALSE</li>\n",
       "\t<li>FALSE</li>\n",
       "\t<li>FALSE</li>\n",
       "\t<li>FALSE</li>\n",
       "\t<li>FALSE</li>\n",
       "\t<li>FALSE</li>\n",
       "\t<li>FALSE</li>\n",
       "\t<li>FALSE</li>\n",
       "\t<li>FALSE</li>\n",
       "\t<li>FALSE</li>\n",
       "\t<li>FALSE</li>\n",
       "\t<li>FALSE</li>\n",
       "\t<li>FALSE</li>\n",
       "\t<li>FALSE</li>\n",
       "\t<li>FALSE</li>\n",
       "\t<li>FALSE</li>\n",
       "\t<li>FALSE</li>\n",
       "\t<li>FALSE</li>\n",
       "\t<li>FALSE</li>\n",
       "\t<li>FALSE</li>\n",
       "\t<li>FALSE</li>\n",
       "\t<li>FALSE</li>\n",
       "\t<li>FALSE</li>\n",
       "\t<li>FALSE</li>\n",
       "\t<li>FALSE</li>\n",
       "\t<li>FALSE</li>\n",
       "\t<li>FALSE</li>\n",
       "\t<li>FALSE</li>\n",
       "\t<li>FALSE</li>\n",
       "\t<li>FALSE</li>\n",
       "\t<li>FALSE</li>\n",
       "\t<li>FALSE</li>\n",
       "\t<li>FALSE</li>\n",
       "\t<li>FALSE</li>\n",
       "\t<li>FALSE</li>\n",
       "\t<li>FALSE</li>\n",
       "\t<li>FALSE</li>\n",
       "\t<li>FALSE</li>\n",
       "\t<li>FALSE</li>\n",
       "\t<li>FALSE</li>\n",
       "\t<li>FALSE</li>\n",
       "\t<li>FALSE</li>\n",
       "\t<li>FALSE</li>\n",
       "\t<li>FALSE</li>\n",
       "\t<li>FALSE</li>\n",
       "\t<li>FALSE</li>\n",
       "\t<li>FALSE</li>\n",
       "\t<li>FALSE</li>\n",
       "\t<li>FALSE</li>\n",
       "\t<li>FALSE</li>\n",
       "\t<li>FALSE</li>\n",
       "\t<li>FALSE</li>\n",
       "\t<li>FALSE</li>\n",
       "\t<li>FALSE</li>\n",
       "\t<li>FALSE</li>\n",
       "\t<li>FALSE</li>\n",
       "\t<li>FALSE</li>\n",
       "\t<li>FALSE</li>\n",
       "\t<li>FALSE</li>\n",
       "\t<li>FALSE</li>\n",
       "\t<li>FALSE</li>\n",
       "\t<li>FALSE</li>\n",
       "\t<li>FALSE</li>\n",
       "\t<li>FALSE</li>\n",
       "\t<li>FALSE</li>\n",
       "\t<li>FALSE</li>\n",
       "\t<li>FALSE</li>\n",
       "\t<li>FALSE</li>\n",
       "\t<li>FALSE</li>\n",
       "\t<li>FALSE</li>\n",
       "\t<li>FALSE</li>\n",
       "\t<li>FALSE</li>\n",
       "\t<li>FALSE</li>\n",
       "\t<li>FALSE</li>\n",
       "\t<li>FALSE</li>\n",
       "\t<li>FALSE</li>\n",
       "\t<li>FALSE</li>\n",
       "\t<li>FALSE</li>\n",
       "\t<li>FALSE</li>\n",
       "\t<li>FALSE</li>\n",
       "\t<li>FALSE</li>\n",
       "\t<li>FALSE</li>\n",
       "\t<li>FALSE</li>\n",
       "\t<li>FALSE</li>\n",
       "\t<li>FALSE</li>\n",
       "\t<li>FALSE</li>\n",
       "\t<li>FALSE</li>\n",
       "\t<li>FALSE</li>\n",
       "\t<li>FALSE</li>\n",
       "\t<li>FALSE</li>\n",
       "</ol>\n"
      ],
      "text/latex": [
       "\\begin{enumerate*}\n",
       "\\item FALSE\n",
       "\\item FALSE\n",
       "\\item FALSE\n",
       "\\item FALSE\n",
       "\\item FALSE\n",
       "\\item FALSE\n",
       "\\item FALSE\n",
       "\\item FALSE\n",
       "\\item FALSE\n",
       "\\item FALSE\n",
       "\\item FALSE\n",
       "\\item FALSE\n",
       "\\item FALSE\n",
       "\\item FALSE\n",
       "\\item FALSE\n",
       "\\item FALSE\n",
       "\\item FALSE\n",
       "\\item FALSE\n",
       "\\item FALSE\n",
       "\\item FALSE\n",
       "\\item FALSE\n",
       "\\item FALSE\n",
       "\\item FALSE\n",
       "\\item FALSE\n",
       "\\item FALSE\n",
       "\\item FALSE\n",
       "\\item FALSE\n",
       "\\item FALSE\n",
       "\\item FALSE\n",
       "\\item FALSE\n",
       "\\item FALSE\n",
       "\\item FALSE\n",
       "\\item FALSE\n",
       "\\item FALSE\n",
       "\\item FALSE\n",
       "\\item FALSE\n",
       "\\item FALSE\n",
       "\\item FALSE\n",
       "\\item FALSE\n",
       "\\item FALSE\n",
       "\\item FALSE\n",
       "\\item FALSE\n",
       "\\item FALSE\n",
       "\\item FALSE\n",
       "\\item FALSE\n",
       "\\item FALSE\n",
       "\\item FALSE\n",
       "\\item FALSE\n",
       "\\item FALSE\n",
       "\\item FALSE\n",
       "\\item FALSE\n",
       "\\item FALSE\n",
       "\\item FALSE\n",
       "\\item FALSE\n",
       "\\item FALSE\n",
       "\\item FALSE\n",
       "\\item FALSE\n",
       "\\item FALSE\n",
       "\\item FALSE\n",
       "\\item FALSE\n",
       "\\item FALSE\n",
       "\\item FALSE\n",
       "\\item FALSE\n",
       "\\item FALSE\n",
       "\\item FALSE\n",
       "\\item FALSE\n",
       "\\item FALSE\n",
       "\\item FALSE\n",
       "\\item FALSE\n",
       "\\item FALSE\n",
       "\\item FALSE\n",
       "\\item FALSE\n",
       "\\item FALSE\n",
       "\\item FALSE\n",
       "\\item FALSE\n",
       "\\item FALSE\n",
       "\\item FALSE\n",
       "\\item FALSE\n",
       "\\item FALSE\n",
       "\\item FALSE\n",
       "\\item FALSE\n",
       "\\item FALSE\n",
       "\\item FALSE\n",
       "\\item FALSE\n",
       "\\item FALSE\n",
       "\\item FALSE\n",
       "\\item FALSE\n",
       "\\item FALSE\n",
       "\\item FALSE\n",
       "\\item FALSE\n",
       "\\item FALSE\n",
       "\\item FALSE\n",
       "\\item FALSE\n",
       "\\item FALSE\n",
       "\\item FALSE\n",
       "\\item FALSE\n",
       "\\item FALSE\n",
       "\\item FALSE\n",
       "\\item FALSE\n",
       "\\item FALSE\n",
       "\\end{enumerate*}\n"
      ],
      "text/markdown": [
       "1. FALSE\n",
       "2. FALSE\n",
       "3. FALSE\n",
       "4. FALSE\n",
       "5. FALSE\n",
       "6. FALSE\n",
       "7. FALSE\n",
       "8. FALSE\n",
       "9. FALSE\n",
       "10. FALSE\n",
       "11. FALSE\n",
       "12. FALSE\n",
       "13. FALSE\n",
       "14. FALSE\n",
       "15. FALSE\n",
       "16. FALSE\n",
       "17. FALSE\n",
       "18. FALSE\n",
       "19. FALSE\n",
       "20. FALSE\n",
       "21. FALSE\n",
       "22. FALSE\n",
       "23. FALSE\n",
       "24. FALSE\n",
       "25. FALSE\n",
       "26. FALSE\n",
       "27. FALSE\n",
       "28. FALSE\n",
       "29. FALSE\n",
       "30. FALSE\n",
       "31. FALSE\n",
       "32. FALSE\n",
       "33. FALSE\n",
       "34. FALSE\n",
       "35. FALSE\n",
       "36. FALSE\n",
       "37. FALSE\n",
       "38. FALSE\n",
       "39. FALSE\n",
       "40. FALSE\n",
       "41. FALSE\n",
       "42. FALSE\n",
       "43. FALSE\n",
       "44. FALSE\n",
       "45. FALSE\n",
       "46. FALSE\n",
       "47. FALSE\n",
       "48. FALSE\n",
       "49. FALSE\n",
       "50. FALSE\n",
       "51. FALSE\n",
       "52. FALSE\n",
       "53. FALSE\n",
       "54. FALSE\n",
       "55. FALSE\n",
       "56. FALSE\n",
       "57. FALSE\n",
       "58. FALSE\n",
       "59. FALSE\n",
       "60. FALSE\n",
       "61. FALSE\n",
       "62. FALSE\n",
       "63. FALSE\n",
       "64. FALSE\n",
       "65. FALSE\n",
       "66. FALSE\n",
       "67. FALSE\n",
       "68. FALSE\n",
       "69. FALSE\n",
       "70. FALSE\n",
       "71. FALSE\n",
       "72. FALSE\n",
       "73. FALSE\n",
       "74. FALSE\n",
       "75. FALSE\n",
       "76. FALSE\n",
       "77. FALSE\n",
       "78. FALSE\n",
       "79. FALSE\n",
       "80. FALSE\n",
       "81. FALSE\n",
       "82. FALSE\n",
       "83. FALSE\n",
       "84. FALSE\n",
       "85. FALSE\n",
       "86. FALSE\n",
       "87. FALSE\n",
       "88. FALSE\n",
       "89. FALSE\n",
       "90. FALSE\n",
       "91. FALSE\n",
       "92. FALSE\n",
       "93. FALSE\n",
       "94. FALSE\n",
       "95. FALSE\n",
       "96. FALSE\n",
       "97. FALSE\n",
       "98. FALSE\n",
       "99. FALSE\n",
       "100. FALSE\n",
       "\n",
       "\n"
      ],
      "text/plain": [
       "  [1] FALSE FALSE FALSE FALSE FALSE FALSE FALSE FALSE FALSE FALSE FALSE FALSE\n",
       " [13] FALSE FALSE FALSE FALSE FALSE FALSE FALSE FALSE FALSE FALSE FALSE FALSE\n",
       " [25] FALSE FALSE FALSE FALSE FALSE FALSE FALSE FALSE FALSE FALSE FALSE FALSE\n",
       " [37] FALSE FALSE FALSE FALSE FALSE FALSE FALSE FALSE FALSE FALSE FALSE FALSE\n",
       " [49] FALSE FALSE FALSE FALSE FALSE FALSE FALSE FALSE FALSE FALSE FALSE FALSE\n",
       " [61] FALSE FALSE FALSE FALSE FALSE FALSE FALSE FALSE FALSE FALSE FALSE FALSE\n",
       " [73] FALSE FALSE FALSE FALSE FALSE FALSE FALSE FALSE FALSE FALSE FALSE FALSE\n",
       " [85] FALSE FALSE FALSE FALSE FALSE FALSE FALSE FALSE FALSE FALSE FALSE FALSE\n",
       " [97] FALSE FALSE FALSE FALSE"
      ]
     },
     "metadata": {},
     "output_type": "display_data"
    }
   ],
   "source": [
    "head(newtrials<=4,100)"
   ]
  },
  {
   "cell_type": "markdown",
   "metadata": {},
   "source": [
    "Now, what `newtrials <= 4` has done is made another vector, more data, this time each element corresponds to an entry in `newtrials` and is either TRUE or FALSE. If we `sum()` these values, TRUE becomes 1 and FALSE 0, so we can count how many trials had Steptomycin deaths of 4 or less. "
   ]
  },
  {
   "cell_type": "code",
   "execution_count": 18,
   "metadata": {},
   "outputs": [
    {
     "data": {
      "text/html": [
       "52"
      ],
      "text/latex": [
       "52"
      ],
      "text/markdown": [
       "52"
      ],
      "text/plain": [
       "[1] 52"
      ]
     },
     "metadata": {},
     "output_type": "display_data"
    }
   ],
   "source": [
    "sum(newtrials<=4)"
   ]
  },
  {
   "cell_type": "markdown",
   "metadata": {},
   "source": [
    "In my case 59 out of 10,000, or 0.0059, or about 0.6% had counts as low or lower than what Hill saw, for a P-value of 0.0059. What do you think? Does this provide evidence that our null hypothesis is wrong? What you immediately start to look for is some kind of color coding telling you when the strength of evidence is sufficient to \"reject\" the null hypothesis, something to be a warning that the hypothesis is in danger.\n",
    "\n",
    "This is where our discussion about the problems with P-values comes into play. You don't take it seriously until the P-value is not microscopically small. Then the errors built into this need to be evaluated. For 60 or so times out of 10,000 **under the null hypothesis of no difference, you get a table, just by chance, that makes penicillin look really good.** If you reject the null hypothesis then you might be putting faith in penicillin when none is warranted. How small should a P-value be for you to feel comfortable that you're not making a mistake?\n",
    "\n",
    "For academic publishing, a cutoff of 0.05 is typical. Any P-value below 0.05 is said to be \"statistically significant.\" Significance means, typically, that a paper can get published, the researcher having found an \"important\" result. \n",
    "\n",
    "And that's part of the issue with significance testing. Fisher meant it to be something that one consulted for evidence, but you had a lifetime of experience as well to draw on. It's why he could make a cavalier comment about 0.05 being comfortable to him because it meant that with this as a cutoff, you'll only incorrectly rejecting a null hypothesis 1 in 20 times - an error rate he said he could live with. But again, he wasn't a stickler for these rules and actively fought against them.\n",
    "\n",
    "There is also a real difference between statistical significance and practical significance. We'll see that more clearly when we cover confidence intervals.\n",
    "\n",
    "The P-vaue has held sway in academic publishing for quite some time, but recently there has been a move to do something about it, to replace it with more meaningful measures. [Here is a nice Vox article](https://www.vox.com/science-and-health/2017/7/31/16021654/p-values-statistical-significance-redefine-0005) that summarizes the trouble with P-values. It's worth a read.\n",
    "\n",
    "**A/B Testing**\n",
    "\n",
    "The mechanism behind randomized trials is underneath a host of processes that are optimizing headlines, moving content around on home pages, and testing out what kind of content is pushed out to social media. [Have a read about what Buzzfeed does.](https://ijnet.org/en/blog/adaptation-ab-testing-and-analytics-how-buzzfeed-optimizes-news-its-audience) We are now going to load up the data given to us by the New York Times. [Pull it from Dropbox](https://www.dropbox.com/s/x8ud9taqg12s7c4/nyt.csv?dl=0) and place it in the same folder as your notebook. It's a little old now, but the principles are the same. \n",
    "\n",
    "The treatment, you will recall, was replacing a Tab layout versus a List layout for the top cities and most e-mailed stories. Again, this was an old version of the site. The treatment is stored in a variable called \"Variation\" (which page variation were people shown) and \"IfClicked\" (did they click or not). Read in the data and then have a look."
   ]
  },
  {
   "cell_type": "code",
   "execution_count": 19,
   "metadata": {},
   "outputs": [
    {
     "data": {
      "text/html": [
       "<table>\n",
       "<thead><tr><th scope=col>User_ID</th><th scope=col>UserVisit_ID</th><th scope=col>StartTime_SSE</th><th scope=col>StartTime_English</th><th scope=col>VisitLength</th><th scope=col>Variation</th><th scope=col>RefererUrl</th><th scope=col>EntryPageUrl</th><th scope=col>Pageviews</th><th scope=col>TotalVisits</th><th scope=col>TimeSinceFirstVisit</th><th scope=col>UserAgent</th><th scope=col>IfClicked</th></tr></thead>\n",
       "<tbody>\n",
       "\t<tr><td>293076199                                                                                                                                                                                                               </td><td>374522966                                                                                                                                                                                                               </td><td>1227026424                                                                                                                                                                                                              </td><td>Tue, Nov 18, 2008 - 16:40:24 (GMT)                                                                                                                                                                                      </td><td>  8                                                                                                                                                                                                                     </td><td>List                                                                                                                                                                                                                    </td><td>http://www.nytimes.com/pages/politics/index.html                                                                                                                                                                        </td><td>http://travel.nytimes.com/pages/travel/index.html                                                                                                                                                                       </td><td> 1                                                                                                                                                                                                                      </td><td> 2                                                                                                                                                                                                                      </td><td> 59.00                                                                                                                                                                                                                  </td><td>Mozilla/4.0 (compatible; MSIE 6.0; Windows NT 5.1; SV1; .NET CLR 1.1.4322; .NET CLR 2.0.50727)                                                                                                                          </td><td>0                                                                                                                                                                                                                       </td></tr>\n",
       "\t<tr><td>304430946                                                                                                                                                                                                                                                       </td><td>374523042                                                                                                                                                                                                                                                       </td><td>1227026429                                                                                                                                                                                                                                                      </td><td>Tue, Nov 18, 2008 - 16:40:29 (GMT)                                                                                                                                                                                                                              </td><td><span style=white-space:pre-wrap>  5</span>                                                                                                                                                                                                                     </td><td>Tabs                                                                                                                                                                                                                                                            </td><td>http://www.nytimes.com/2008/11/19/business/19markets.html?_r=1&amp;hp                                                                                                                                                                                           </td><td>http://travel.nytimes.com/pages/travel/index.html                                                                                                                                                                                                               </td><td> 1                                                                                                                                                                                                                                                              </td><td> 1                                                                                                                                                                                                                                                              </td><td> 40.99                                                                                                                                                                                                                                                          </td><td><span style=white-space:pre-wrap>Mozilla/5.0 (Windows; U; Windows NT 5.1; en-US; rv:1.9.0.4) Gecko/2008102920 Firefox/3.0.4                                                                                                                              </span></td><td>0                                                                                                                                                                                                                                                               </td></tr>\n",
       "\t<tr><td>299920750                                                                                                                                                                                                               </td><td>374523050                                                                                                                                                                                                               </td><td>1227026430                                                                                                                                                                                                              </td><td>Tue, Nov 18, 2008 - 16:40:30 (GMT)                                                                                                                                                                                      </td><td>178                                                                                                                                                                                                                     </td><td>Tabs                                                                                                                                                                                                                    </td><td>http://www.nytimes.com/                                                                                                                                                                                                 </td><td>http://travel.nytimes.com/                                                                                                                                                                                              </td><td> 4                                                                                                                                                                                                                      </td><td> 2                                                                                                                                                                                                                      </td><td> 48.23                                                                                                                                                                                                                  </td><td>Mozilla/4.0 (compatible; MSIE 6.0; Windows NT 5.1; SV1; msie6xpv1; MSIE6ENV21; .NET CLR 1.0.3705; .NET CLR 1.1.4322; .NET CLR 2.0.50727; .NET CLR 3.0.04506.30; MS-RTC LM 8; .NET CLR 3.0.04506.648; .NET CLR 3.5.21022)</td><td>0                                                                                                                                                                                                                       </td></tr>\n",
       "\t<tr><td>303737899                                                                                                                                                                                                               </td><td>374523100                                                                                                                                                                                                               </td><td>1227026433                                                                                                                                                                                                              </td><td>Tue, Nov 18, 2008 - 16:40:33 (GMT)                                                                                                                                                                                      </td><td> 10                                                                                                                                                                                                                     </td><td>Tabs                                                                                                                                                                                                                    </td><td>http://www.nytimes.com/pages/business/smallbusiness/index.html                                                                                                                                                          </td><td>http://travel.nytimes.com/pages/travel/index.html                                                                                                                                                                       </td><td> 1                                                                                                                                                                                                                      </td><td> 2                                                                                                                                                                                                                      </td><td> 41.98                                                                                                                                                                                                                  </td><td>Mozilla/4.0 (compatible; MSIE 6.0; Windows NT 5.1; SV1; .NET CLR 2.0.50727; .NET CLR 3.0.04506.30; .NET CLR 3.0.04506.648; .NET CLR 3.5.21022; InfoPath.1)                                                              </td><td>0                                                                                                                                                                                                                       </td></tr>\n",
       "\t<tr><td>195103988                                                                                                                                                                                                               </td><td>374523273                                                                                                                                                                                                               </td><td>1227026446                                                                                                                                                                                                              </td><td>Tue, Nov 18, 2008 - 16:40:46 (GMT)                                                                                                                                                                                      </td><td> 81                                                                                                                                                                                                                     </td><td>List                                                                                                                                                                                                                    </td><td>http://movies.nytimes.com/pages/movies/index.html                                                                                                                                                                       </td><td>http://travel.nytimes.com/pages/travel/index.html                                                                                                                                                                       </td><td> 3                                                                                                                                                                                                                      </td><td>45                                                                                                                                                                                                                      </td><td>213.81                                                                                                                                                                                                                  </td><td>Mozilla/4.0 (compatible; MSIE 7.0; Windows NT 5.1; .NET CLR 1.1.4322; .NET CLR 2.0.50727; .NET CLR 3.0.04506.30; InfoPath.1; .NET CLR 3.0.04506.648)                                                                    </td><td>0                                                                                                                                                                                                                       </td></tr>\n",
       "\t<tr><td>281218142                                                                                                                                                                                                               </td><td>374523374                                                                                                                                                                                                               </td><td>1227026455                                                                                                                                                                                                              </td><td>Tue, Nov 18, 2008 - 16:40:55 (GMT)                                                                                                                                                                                      </td><td>336                                                                                                                                                                                                                     </td><td>Tabs                                                                                                                                                                                                                    </td><td>http://www.nytimes.com/                                                                                                                                                                                                 </td><td>http://travel.nytimes.com/                                                                                                                                                                                              </td><td>13                                                                                                                                                                                                                      </td><td> 2                                                                                                                                                                                                                      </td><td> 77.27                                                                                                                                                                                                                  </td><td>Mozilla/4.0 (compatible; MSIE 6.0; Windows NT 5.1; SV1; .NET CLR 1.1.4322; .NET CLR 2.0.50727; .NET CLR 3.0.04506.30)                                                                                                   </td><td>0                                                                                                                                                                                                                       </td></tr>\n",
       "</tbody>\n",
       "</table>\n"
      ],
      "text/latex": [
       "\\begin{tabular}{r|lllllllllllll}\n",
       " User\\_ID & UserVisit\\_ID & StartTime\\_SSE & StartTime\\_English & VisitLength & Variation & RefererUrl & EntryPageUrl & Pageviews & TotalVisits & TimeSinceFirstVisit & UserAgent & IfClicked\\\\\n",
       "\\hline\n",
       "\t 293076199                                                                                                                                                                                                                & 374522966                                                                                                                                                                                                                & 1227026424                                                                                                                                                                                                               & Tue, Nov 18, 2008 - 16:40:24 (GMT)                                                                                                                                                                                       &   8                                                                                                                                                                                                                      & List                                                                                                                                                                                                                     & http://www.nytimes.com/pages/politics/index.html                                                                                                                                                                         & http://travel.nytimes.com/pages/travel/index.html                                                                                                                                                                        &  1                                                                                                                                                                                                                       &  2                                                                                                                                                                                                                       &  59.00                                                                                                                                                                                                                   & Mozilla/4.0 (compatible; MSIE 6.0; Windows NT 5.1; SV1; .NET CLR 1.1.4322; .NET CLR 2.0.50727)                                                                                                                           & 0                                                                                                                                                                                                                       \\\\\n",
       "\t 304430946                                                                                                                                                                                                                & 374523042                                                                                                                                                                                                                & 1227026429                                                                                                                                                                                                               & Tue, Nov 18, 2008 - 16:40:29 (GMT)                                                                                                                                                                                       &   5                                                                                                                                                                                                                      & Tabs                                                                                                                                                                                                                     & http://www.nytimes.com/2008/11/19/business/19markets.html?\\_r=1\\&hp                                                                                                                                                    & http://travel.nytimes.com/pages/travel/index.html                                                                                                                                                                        &  1                                                                                                                                                                                                                       &  1                                                                                                                                                                                                                       &  40.99                                                                                                                                                                                                                   & Mozilla/5.0 (Windows; U; Windows NT 5.1; en-US; rv:1.9.0.4) Gecko/2008102920 Firefox/3.0.4                                                                                                                               & 0                                                                                                                                                                                                                       \\\\\n",
       "\t 299920750                                                                                                                                                                                                                & 374523050                                                                                                                                                                                                                & 1227026430                                                                                                                                                                                                               & Tue, Nov 18, 2008 - 16:40:30 (GMT)                                                                                                                                                                                       & 178                                                                                                                                                                                                                      & Tabs                                                                                                                                                                                                                     & http://www.nytimes.com/                                                                                                                                                                                                  & http://travel.nytimes.com/                                                                                                                                                                                               &  4                                                                                                                                                                                                                       &  2                                                                                                                                                                                                                       &  48.23                                                                                                                                                                                                                   & Mozilla/4.0 (compatible; MSIE 6.0; Windows NT 5.1; SV1; msie6xpv1; MSIE6ENV21; .NET CLR 1.0.3705; .NET CLR 1.1.4322; .NET CLR 2.0.50727; .NET CLR 3.0.04506.30; MS-RTC LM 8; .NET CLR 3.0.04506.648; .NET CLR 3.5.21022) & 0                                                                                                                                                                                                                       \\\\\n",
       "\t 303737899                                                                                                                                                                                                                & 374523100                                                                                                                                                                                                                & 1227026433                                                                                                                                                                                                               & Tue, Nov 18, 2008 - 16:40:33 (GMT)                                                                                                                                                                                       &  10                                                                                                                                                                                                                      & Tabs                                                                                                                                                                                                                     & http://www.nytimes.com/pages/business/smallbusiness/index.html                                                                                                                                                           & http://travel.nytimes.com/pages/travel/index.html                                                                                                                                                                        &  1                                                                                                                                                                                                                       &  2                                                                                                                                                                                                                       &  41.98                                                                                                                                                                                                                   & Mozilla/4.0 (compatible; MSIE 6.0; Windows NT 5.1; SV1; .NET CLR 2.0.50727; .NET CLR 3.0.04506.30; .NET CLR 3.0.04506.648; .NET CLR 3.5.21022; InfoPath.1)                                                               & 0                                                                                                                                                                                                                       \\\\\n",
       "\t 195103988                                                                                                                                                                                                                & 374523273                                                                                                                                                                                                                & 1227026446                                                                                                                                                                                                               & Tue, Nov 18, 2008 - 16:40:46 (GMT)                                                                                                                                                                                       &  81                                                                                                                                                                                                                      & List                                                                                                                                                                                                                     & http://movies.nytimes.com/pages/movies/index.html                                                                                                                                                                        & http://travel.nytimes.com/pages/travel/index.html                                                                                                                                                                        &  3                                                                                                                                                                                                                       & 45                                                                                                                                                                                                                       & 213.81                                                                                                                                                                                                                   & Mozilla/4.0 (compatible; MSIE 7.0; Windows NT 5.1; .NET CLR 1.1.4322; .NET CLR 2.0.50727; .NET CLR 3.0.04506.30; InfoPath.1; .NET CLR 3.0.04506.648)                                                                     & 0                                                                                                                                                                                                                       \\\\\n",
       "\t 281218142                                                                                                                                                                                                                & 374523374                                                                                                                                                                                                                & 1227026455                                                                                                                                                                                                               & Tue, Nov 18, 2008 - 16:40:55 (GMT)                                                                                                                                                                                       & 336                                                                                                                                                                                                                      & Tabs                                                                                                                                                                                                                     & http://www.nytimes.com/                                                                                                                                                                                                  & http://travel.nytimes.com/                                                                                                                                                                                               & 13                                                                                                                                                                                                                       &  2                                                                                                                                                                                                                       &  77.27                                                                                                                                                                                                                   & Mozilla/4.0 (compatible; MSIE 6.0; Windows NT 5.1; SV1; .NET CLR 1.1.4322; .NET CLR 2.0.50727; .NET CLR 3.0.04506.30)                                                                                                    & 0                                                                                                                                                                                                                       \\\\\n",
       "\\end{tabular}\n"
      ],
      "text/markdown": [
       "\n",
       "User_ID | UserVisit_ID | StartTime_SSE | StartTime_English | VisitLength | Variation | RefererUrl | EntryPageUrl | Pageviews | TotalVisits | TimeSinceFirstVisit | UserAgent | IfClicked | \n",
       "|---|---|---|---|---|---|\n",
       "| 293076199                                                                                                                                                                                                                | 374522966                                                                                                                                                                                                                | 1227026424                                                                                                                                                                                                               | Tue, Nov 18, 2008 - 16:40:24 (GMT)                                                                                                                                                                                       |   8                                                                                                                                                                                                                      | List                                                                                                                                                                                                                     | http://www.nytimes.com/pages/politics/index.html                                                                                                                                                                         | http://travel.nytimes.com/pages/travel/index.html                                                                                                                                                                        |  1                                                                                                                                                                                                                       |  2                                                                                                                                                                                                                       |  59.00                                                                                                                                                                                                                   | Mozilla/4.0 (compatible; MSIE 6.0; Windows NT 5.1; SV1; .NET CLR 1.1.4322; .NET CLR 2.0.50727)                                                                                                                           | 0                                                                                                                                                                                                                        | \n",
       "| 304430946                                                                                                                                                                                                                | 374523042                                                                                                                                                                                                                | 1227026429                                                                                                                                                                                                               | Tue, Nov 18, 2008 - 16:40:29 (GMT)                                                                                                                                                                                       |   5                                                                                                                                                                                                                      | Tabs                                                                                                                                                                                                                     | http://www.nytimes.com/2008/11/19/business/19markets.html?_r=1&hp                                                                                                                                                        | http://travel.nytimes.com/pages/travel/index.html                                                                                                                                                                        |  1                                                                                                                                                                                                                       |  1                                                                                                                                                                                                                       |  40.99                                                                                                                                                                                                                   | Mozilla/5.0 (Windows; U; Windows NT 5.1; en-US; rv:1.9.0.4) Gecko/2008102920 Firefox/3.0.4                                                                                                                               | 0                                                                                                                                                                                                                        | \n",
       "| 299920750                                                                                                                                                                                                                | 374523050                                                                                                                                                                                                                | 1227026430                                                                                                                                                                                                               | Tue, Nov 18, 2008 - 16:40:30 (GMT)                                                                                                                                                                                       | 178                                                                                                                                                                                                                      | Tabs                                                                                                                                                                                                                     | http://www.nytimes.com/                                                                                                                                                                                                  | http://travel.nytimes.com/                                                                                                                                                                                               |  4                                                                                                                                                                                                                       |  2                                                                                                                                                                                                                       |  48.23                                                                                                                                                                                                                   | Mozilla/4.0 (compatible; MSIE 6.0; Windows NT 5.1; SV1; msie6xpv1; MSIE6ENV21; .NET CLR 1.0.3705; .NET CLR 1.1.4322; .NET CLR 2.0.50727; .NET CLR 3.0.04506.30; MS-RTC LM 8; .NET CLR 3.0.04506.648; .NET CLR 3.5.21022) | 0                                                                                                                                                                                                                        | \n",
       "| 303737899                                                                                                                                                                                                                | 374523100                                                                                                                                                                                                                | 1227026433                                                                                                                                                                                                               | Tue, Nov 18, 2008 - 16:40:33 (GMT)                                                                                                                                                                                       |  10                                                                                                                                                                                                                      | Tabs                                                                                                                                                                                                                     | http://www.nytimes.com/pages/business/smallbusiness/index.html                                                                                                                                                           | http://travel.nytimes.com/pages/travel/index.html                                                                                                                                                                        |  1                                                                                                                                                                                                                       |  2                                                                                                                                                                                                                       |  41.98                                                                                                                                                                                                                   | Mozilla/4.0 (compatible; MSIE 6.0; Windows NT 5.1; SV1; .NET CLR 2.0.50727; .NET CLR 3.0.04506.30; .NET CLR 3.0.04506.648; .NET CLR 3.5.21022; InfoPath.1)                                                               | 0                                                                                                                                                                                                                        | \n",
       "| 195103988                                                                                                                                                                                                                | 374523273                                                                                                                                                                                                                | 1227026446                                                                                                                                                                                                               | Tue, Nov 18, 2008 - 16:40:46 (GMT)                                                                                                                                                                                       |  81                                                                                                                                                                                                                      | List                                                                                                                                                                                                                     | http://movies.nytimes.com/pages/movies/index.html                                                                                                                                                                        | http://travel.nytimes.com/pages/travel/index.html                                                                                                                                                                        |  3                                                                                                                                                                                                                       | 45                                                                                                                                                                                                                       | 213.81                                                                                                                                                                                                                   | Mozilla/4.0 (compatible; MSIE 7.0; Windows NT 5.1; .NET CLR 1.1.4322; .NET CLR 2.0.50727; .NET CLR 3.0.04506.30; InfoPath.1; .NET CLR 3.0.04506.648)                                                                     | 0                                                                                                                                                                                                                        | \n",
       "| 281218142                                                                                                                                                                                                                | 374523374                                                                                                                                                                                                                | 1227026455                                                                                                                                                                                                               | Tue, Nov 18, 2008 - 16:40:55 (GMT)                                                                                                                                                                                       | 336                                                                                                                                                                                                                      | Tabs                                                                                                                                                                                                                     | http://www.nytimes.com/                                                                                                                                                                                                  | http://travel.nytimes.com/                                                                                                                                                                                               | 13                                                                                                                                                                                                                       |  2                                                                                                                                                                                                                       |  77.27                                                                                                                                                                                                                   | Mozilla/4.0 (compatible; MSIE 6.0; Windows NT 5.1; SV1; .NET CLR 1.1.4322; .NET CLR 2.0.50727; .NET CLR 3.0.04506.30)                                                                                                    | 0                                                                                                                                                                                                                        | \n",
       "\n",
       "\n"
      ],
      "text/plain": [
       "  User_ID   UserVisit_ID StartTime_SSE StartTime_English                 \n",
       "1 293076199 374522966    1227026424    Tue, Nov 18, 2008 - 16:40:24 (GMT)\n",
       "2 304430946 374523042    1227026429    Tue, Nov 18, 2008 - 16:40:29 (GMT)\n",
       "3 299920750 374523050    1227026430    Tue, Nov 18, 2008 - 16:40:30 (GMT)\n",
       "4 303737899 374523100    1227026433    Tue, Nov 18, 2008 - 16:40:33 (GMT)\n",
       "5 195103988 374523273    1227026446    Tue, Nov 18, 2008 - 16:40:46 (GMT)\n",
       "6 281218142 374523374    1227026455    Tue, Nov 18, 2008 - 16:40:55 (GMT)\n",
       "  VisitLength Variation\n",
       "1   8         List     \n",
       "2   5         Tabs     \n",
       "3 178         Tabs     \n",
       "4  10         Tabs     \n",
       "5  81         List     \n",
       "6 336         Tabs     \n",
       "  RefererUrl                                                       \n",
       "1 http://www.nytimes.com/pages/politics/index.html                 \n",
       "2 http://www.nytimes.com/2008/11/19/business/19markets.html?_r=1&hp\n",
       "3 http://www.nytimes.com/                                          \n",
       "4 http://www.nytimes.com/pages/business/smallbusiness/index.html   \n",
       "5 http://movies.nytimes.com/pages/movies/index.html                \n",
       "6 http://www.nytimes.com/                                          \n",
       "  EntryPageUrl                                      Pageviews TotalVisits\n",
       "1 http://travel.nytimes.com/pages/travel/index.html  1         2         \n",
       "2 http://travel.nytimes.com/pages/travel/index.html  1         1         \n",
       "3 http://travel.nytimes.com/                         4         2         \n",
       "4 http://travel.nytimes.com/pages/travel/index.html  1         2         \n",
       "5 http://travel.nytimes.com/pages/travel/index.html  3        45         \n",
       "6 http://travel.nytimes.com/                        13         2         \n",
       "  TimeSinceFirstVisit\n",
       "1  59.00             \n",
       "2  40.99             \n",
       "3  48.23             \n",
       "4  41.98             \n",
       "5 213.81             \n",
       "6  77.27             \n",
       "  UserAgent                                                                                                                                                                                                               \n",
       "1 Mozilla/4.0 (compatible; MSIE 6.0; Windows NT 5.1; SV1; .NET CLR 1.1.4322; .NET CLR 2.0.50727)                                                                                                                          \n",
       "2 Mozilla/5.0 (Windows; U; Windows NT 5.1; en-US; rv:1.9.0.4) Gecko/2008102920 Firefox/3.0.4                                                                                                                              \n",
       "3 Mozilla/4.0 (compatible; MSIE 6.0; Windows NT 5.1; SV1; msie6xpv1; MSIE6ENV21; .NET CLR 1.0.3705; .NET CLR 1.1.4322; .NET CLR 2.0.50727; .NET CLR 3.0.04506.30; MS-RTC LM 8; .NET CLR 3.0.04506.648; .NET CLR 3.5.21022)\n",
       "4 Mozilla/4.0 (compatible; MSIE 6.0; Windows NT 5.1; SV1; .NET CLR 2.0.50727; .NET CLR 3.0.04506.30; .NET CLR 3.0.04506.648; .NET CLR 3.5.21022; InfoPath.1)                                                              \n",
       "5 Mozilla/4.0 (compatible; MSIE 7.0; Windows NT 5.1; .NET CLR 1.1.4322; .NET CLR 2.0.50727; .NET CLR 3.0.04506.30; InfoPath.1; .NET CLR 3.0.04506.648)                                                                    \n",
       "6 Mozilla/4.0 (compatible; MSIE 6.0; Windows NT 5.1; SV1; .NET CLR 1.1.4322; .NET CLR 2.0.50727; .NET CLR 3.0.04506.30)                                                                                                   \n",
       "  IfClicked\n",
       "1 0        \n",
       "2 0        \n",
       "3 0        \n",
       "4 0        \n",
       "5 0        \n",
       "6 0        "
      ]
     },
     "metadata": {},
     "output_type": "display_data"
    }
   ],
   "source": [
    "nyt = read.csv(\"nyt.csv\")\n",
    "head(nyt)"
   ]
  },
  {
   "cell_type": "markdown",
   "metadata": {},
   "source": [
    "The variables above include the following.\n",
    "\n",
    "> User_ID - A unique number for each visitor\n",
    "<br> UserVisit_ID - A unique number for each visit\n",
    "<br> StartTime_SSE - UNIX time for the start of the visit\n",
    "<br> StartTime_English - A more humanly readable version of the time\n",
    "<br> VisitLength - The number of seconds the visitor was reading the Travel Section pages\n",
    "<br> Variation - The version of the page they received\n",
    "<br> RefererURL - The page they clicked on to get to the Travel Section (if any)\n",
    "<br> EntryPageUrl - The first page on nytimes.com they visited\n",
    "<br> Pageviews - The number of pages viewed in the Travel Section\n",
    "<br> TotalVisits - The total number of visits to the site\n",
    "<br> TimeSinceFirstVisit (days) - How long had it been since their first visit\n",
    "<br> UserAgent - Their browser\n",
    "<br> TotalClicks - How many times did they ckick on the \"most popular\" field\n",
    "<br> IfClicked - 0/1 did they click on the \"most popular\" field at least once\n",
    "\n",
    "This data set was collected in 2008 (sadly) and even then you get an idea for how much information sites have to help adapt content. A/B testing is just one strategy. There is plenty here to build up kind of profile of your viewing habits.\n",
    "\n",
    "Here is how you make a table from just \"Variation\" and \"IfClicked\" -- we pull out the two columns we're after and provide them both to `table()` (as opposed to feeding it one data set with two columns as we did above). So, what does this say?"
   ]
  },
  {
   "cell_type": "code",
   "execution_count": 24,
   "metadata": {},
   "outputs": [
    {
     "data": {
      "text/plain": [
       "      \n",
       "           0     1\n",
       "  List 65181   766\n",
       "  Tabs 64836  1244"
      ]
     },
     "metadata": {},
     "output_type": "display_data"
    }
   ],
   "source": [
    "table(nyt$Variation,nyt$IfClicked)"
   ]
  },
  {
   "cell_type": "markdown",
   "metadata": {},
   "source": [
    "Following how we proceeded with Hill's data, we can make a copy of the data set and then shuffle the treatment column, under the null hypothesis that both Tabs and Lists encourage people to click on the \"most popular\" field equally. Let's have a look at a few simulated tables and get a sense of how likely, say, having 1244 people who saw Tabs click on the field. Is it rare, suggesting the null hypothesis is wrong; or is it consistent with the null distribution?"
   ]
  },
  {
   "cell_type": "code",
   "execution_count": 25,
   "metadata": {},
   "outputs": [],
   "source": [
    "newnyt = nyt"
   ]
  },
  {
   "cell_type": "code",
   "execution_count": 26,
   "metadata": {},
   "outputs": [
    {
     "data": {
      "text/plain": [
       "      \n",
       "           0     1\n",
       "  List 64940  1007\n",
       "  Tabs 65077  1003"
      ]
     },
     "metadata": {},
     "output_type": "display_data"
    }
   ],
   "source": [
    "# do this a few times and watch the count of people in the \"died\"-\"penicillin\" cell\n",
    "\n",
    "newnyt$Variation <- sample(nyt$Variation)\n",
    "table(newnyt$Variation,newnyt$IfClicked)"
   ]
  },
  {
   "cell_type": "markdown",
   "metadata": {},
   "source": [
    "Because this data set is big (130k rows), we will only simulate 1000 times. The results are clear enough even with this smaller number. Notice also that our test statistic, clicking on Tabs, is the number in the second row and second column of the table. So we'll use `[2,2]` to pull it out."
   ]
  },
  {
   "cell_type": "code",
   "execution_count": 28,
   "metadata": {},
   "outputs": [],
   "source": [
    "newtrials <- rep(0,1000)\n",
    "\n",
    "for(i in 1:1000){\n",
    "    newnyt$Variation <- sample(nyt$Variation)\n",
    "    newtrials[i] <- table(newnyt$Variation,newnyt$IfClicked)[2,2]\n",
    "}"
   ]
  },
  {
   "cell_type": "code",
   "execution_count": 29,
   "metadata": {},
   "outputs": [
    {
     "data": {
      "image/png": "[encoded data removed]",
      "text/plain": [
       "Plot with title “Histogram of newtrials”"
      ]
     },
     "metadata": {},
     "output_type": "display_data"
    }
   ],
   "source": [
    "hist(newtrials)"
   ]
  },
  {
   "cell_type": "markdown",
   "metadata": {},
   "source": [
    "What do you think?\n",
    "\n",
    "So far we have played a little fast and loose with some of the technicalities and we can give you more resources on how testing works, but you get the spirit. In later incarnations, competing camps tried to firm up significance testing by casting it as a decision problem. Hypothesis testing was developed by Jerzy Neyman and Egon Pearson and involves not only a null hypothesis but also an alternative. \n",
    "\n",
    "Neyman and Pearson talk specifically about errors you can make in this testing process (rejecting a true null hypothesis or failing to reject a false null hypothesis, say). By accounting for these two errors (called Type I and Type II), they provided tools for researchers to balance the kinds of mistakes they might make. But there's no new magic here - in fact Neyman and Pearson decided that these rules were important because in their estimation, you really couldn't learn anything from data. You could only behave in ways that protected you from making mistakes. It was a kind of behavioral induction.\n",
    "\n",
    "Next time, we will look at confidence intervals (margins of error), starting with [things like these](https://projects.fivethirtyeight.com/trump-approval-ratings/)."
   ]
  }
 ],
 "metadata": {
  "kernelspec": {
   "display_name": "R",
   "language": "R",
   "name": "ir"
  },
  "language_info": {
   "codemirror_mode": "r",
   "file_extension": ".r",
   "mimetype": "text/x-r-source",
   "name": "R",
   "pygments_lexer": "r",
   "version": "3.5.0"
  }
 },
 "nbformat": 4,
 "nbformat_minor": 2
}
