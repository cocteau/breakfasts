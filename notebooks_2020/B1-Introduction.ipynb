{
 "cells": [
  {
   "cell_type": "markdown",
   "metadata": {},
   "source": [
    "Introduction to R and the Jupyter notebook\n",
    "------------------------------------------\n",
    "\n",
    "<img src=\"https://www.r-project.org/logo/Rlogo.svg\" width=75 style=\"float:left;margin: 0px 15px 15px 0px;\"> We will be using the R language for statistical computing. It has a long history, at least in conception, dating back to the early 1970s. It was developed by statisticians to support \"exploratory data analysis,\" a process we will adapt to help us find stories in data. \n",
    "\n",
    "The practice involves repeated \"looks\" at a data set -- a \"look\" might be some graphical representation of the data like a plot, or the output of some form of computation like a numerical summary, a table, or a \"model\" fit. Statistians are exceptionally visual people, obsessed with \"seeing\" what the data have to offer, and \"views\" maybe provided through a variety of computational means. As a journalist, you might think of this attempt to \"see\" as a kind of interview process, with each subsequent look, a follow-up question. R is, by design, expressive in statistical computations and graphics, meaning it allows us to formulate and act on statistical ideas in an easy way. While we installed R via Anaconda and the Jupyter notebook, most of everyting you need to know about the language, it's uses and extensions, is available on the [R project website](http://r-project.org).\n",
    "\n",
    "It's probably worth spending a moment to review the techno-social history of R -- Where did it come from? Why was it invented? Who was behind it and what problems were they struggling with. We care about the origin story of our tools becauae that helps us be on guard for how our analyses are being shaped by the tool makers. Every tool or platform designer has a set of use cases in mind, and you are rewarded for behaving in ways that the designers anticipated. But this can have an affect on the stories that you are capable of finding or telling with data. (Don't get me started on spreadsheets!) Here are a few good resources reviewing where R came from.\n",
    "\n",
    ">[Roger Peng at Johns Hopkins has a Coursera course that starts with an R overview](https://www.coursera.org/learn/r-programming/lecture/pAbaE/overview-and-history-of-r)\n",
    "<br><br>\n",
    "[John Chambers, the designer of a precurser to R called S talks about his motivations](https://web.archive.org/web/20150305201743/http://www.stat.bell-labs.com/S/history.html)\n",
    "<br><br>\n",
    "[The R project website itself has a recounting of its history](https://www.r-project.org/about.html)\n",
    "<br><br>\n",
    "And it's worth seeing who is at the helm of R development these days. [Here's the R-core team from March of 2015](https://web.archive.org/web/20150305213410/https://www.r-project.org/foundation/members.html) and [here is the team today](https://www.r-project.org/foundation/members.html). Notice anyting?\n",
    "\n",
    "The Jupyter notebook you've downloaded provides a very particular *interface* to the R language. (Jupyter actually gives you access to Julia, Python and R -- three languages which explain the name Ju-pyt-er.) You will type commands from the R language into the notebook's \"cells\" and execute them by typing \"shift-enter.\" These code cells are your place to author R, specifying manipulations of and orchestrating looks at your data. \n",
    "\n",
    "Before we get into the data, let's take a look at our environment. **The text you are reading is written in \"Markdown,\"** a kind of pre-language for creating HTML. You can double-click on this \"cell\" to see the raw Markdown, and then hold down the \"shift\" key and hit the \"enter\" key to render it as HTML. Notice that you can still recognize lists and emphasized text from the Markdown additions, and that's the other point of this. Your documents, while written in plain text, make use of typographical conventions that make the document's highlighting understandable even without translation to HTML. That's a good trick! \n",
    "\n",
    "You can find [the Markdown description here.](http://daringfireball.net/projects/markdown/). Take a moment and please go through the [Markdown Tutorial](http://markdowntutorial.com) -- it will be time well spent.\n",
    "\n",
    "**A big calculator**\n",
    "\n",
    "Now, let's start looking at R. First, you can think of R as a big calculator (remember our friend Fisher said that he learned all he knew over his calculator) and its simplest commands are just arithmetic expressions. Add 2 and 3 below by clicking on the cell and then hit \"enter\" while holding down the shift key -- this sends the R expression \"2+3\" to be evaluated and the answer should be returned."
   ]
  },
  {
   "cell_type": "code",
   "execution_count": 1,
   "metadata": {},
   "outputs": [
    {
     "data": {
      "text/html": [
       "5"
      ],
      "text/latex": [
       "5"
      ],
      "text/markdown": [
       "5"
      ],
      "text/plain": [
       "[1] 5"
      ]
     },
     "metadata": {},
     "output_type": "display_data"
    }
   ],
   "source": [
    "2+3"
   ]
  },
  {
   "cell_type": "markdown",
   "metadata": {},
   "source": [
    "By default, the notebook has printed the result of the computation -- hopefully, the number 5. Try these three."
   ]
  },
  {
   "cell_type": "code",
   "execution_count": 2,
   "metadata": {},
   "outputs": [
    {
     "data": {
      "text/html": [
       "50"
      ],
      "text/latex": [
       "50"
      ],
      "text/markdown": [
       "50"
      ],
      "text/plain": [
       "[1] 50"
      ]
     },
     "metadata": {},
     "output_type": "display_data"
    },
    {
     "data": {
      "text/html": [
       "89.4868329805051"
      ],
      "text/latex": [
       "89.4868329805051"
      ],
      "text/markdown": [
       "89.4868329805051"
      ],
      "text/plain": [
       "[1] 89.48683"
      ]
     },
     "metadata": {},
     "output_type": "display_data"
    },
    {
     "data": {
      "text/html": [
       "0.344062919416227"
      ],
      "text/latex": [
       "0.344062919416227"
      ],
      "text/markdown": [
       "0.344062919416227"
      ],
      "text/plain": [
       "[1] 0.3440629"
      ]
     },
     "metadata": {},
     "output_type": "display_data"
    }
   ],
   "source": [
    "5*10\n",
    "20*4+3*sqrt(10)\n",
    "(100+log(25))/300"
   ]
  },
  {
   "cell_type": "markdown",
   "metadata": {},
   "source": [
    "Now, use the cell below to enter 3 more arithmetic expressions and execute them. The top of the cell has a \"comment\" -- in R, any text that starts with a # is ignored and is another way for you to add comments to your work. For bonus points, find another \"mathematical functions\" like `sqrt` and `log`."
   ]
  },
  {
   "cell_type": "code",
   "execution_count": null,
   "metadata": {},
   "outputs": [],
   "source": [
    "# Enter your expressions below\n",
    "\n"
   ]
  },
  {
   "cell_type": "markdown",
   "metadata": {},
   "source": [
    "Notice that each of these expressions \"returns\" a result, the answer, if you will, to the arithmetic calculation. We can catch the result of a computation in a \"variable\". This lets us use the variable name in place of the object it represents in further calculations. Here we associate the squareroot of 5 with the variable name \"x\" and we can use it in calculations like multiplying by 10 or adding 100."
   ]
  },
  {
   "cell_type": "code",
   "execution_count": 3,
   "metadata": {},
   "outputs": [
    {
     "data": {
      "text/html": [
       "2.23606797749979"
      ],
      "text/latex": [
       "2.23606797749979"
      ],
      "text/markdown": [
       "2.23606797749979"
      ],
      "text/plain": [
       "[1] 2.236068"
      ]
     },
     "metadata": {},
     "output_type": "display_data"
    },
    {
     "data": {
      "text/html": [
       "22.3606797749979"
      ],
      "text/latex": [
       "22.3606797749979"
      ],
      "text/markdown": [
       "22.3606797749979"
      ],
      "text/plain": [
       "[1] 22.36068"
      ]
     },
     "metadata": {},
     "output_type": "display_data"
    },
    {
     "data": {
      "text/html": [
       "102.2360679775"
      ],
      "text/latex": [
       "102.2360679775"
      ],
      "text/markdown": [
       "102.2360679775"
      ],
      "text/plain": [
       "[1] 102.2361"
      ]
     },
     "metadata": {},
     "output_type": "display_data"
    }
   ],
   "source": [
    "x <- sqrt(5)\n",
    "x\n",
    "x*10\n",
    "x+100"
   ]
  },
  {
   "cell_type": "markdown",
   "metadata": {},
   "source": [
    "**Structured data**\n",
    "\n",
    "Of course, data analysis rarely deals in single values. Instead we often deal with \"structured\" data, the most popular structure being that of a simple table. Think an Excel spreadsheet. \n",
    "\n",
    "<img src=\"https://github.com/computationaljournalism/columbia2020/raw/master/images/t.jpeg\" width=300>\n",
    "\n",
    "With this structure, each row becomes a \"unit of observation\" (a person, a city, a day) and each column represents characteristics that we measure on each unit (a person's height and weight, or the population of a city, the number of addresses). It's a perfect grid, and it's the grid that lets all the math happen. Let's look at one example. Open this URL: https://covidtracking.com/api/us/daily.csv. It represents a grid. \n",
    "\n",
    "It is stored in a format known as CSV for \"comma separated values\". Here are the complete contents of the file. A CSV represents a basic spreadsheet, our (soon to be good) friend the grid. Each row in the file is a row in the table, with the first row representing the names of the columns or attributes. In this case each row is a day and then for each day, among other things, we record the number of people who tested positive and negative for COVID19 in the US up to that day. \n",
    "\n",
    "`date,states,positive,negative,posNeg,pending,hospitalized,death,total\n",
    "20200323,56,42164,237321,279485,14571,3325,471,294056\n",
    "20200322,56,31888,193463,225351,2842,2554,398,228216\n",
    "20200321,56,23203,155909,179112,3477,1964,272,182589\n",
    "20200320,56,17038,118147,135185,3336,,219,138521\n",
    "20200319,56,11723,89119,100842,3025,,160,103867\n",
    "20200318,56,7731,66225,73956,2538,,112,76495\n",
    "20200317,56,5723,47604,53327,1687,,90,54957\n",
    "20200316,56,4019,36104,40123,1691,,71,41714\n",
    "20200315,51,3173,22548,25721,2242,,60,27963\n",
    "20200314,51,2450,17102,19552,1236,,49,20789\n",
    "20200313,51,1922,13613,15535,1130,,39,16665\n",
    "20200312,51,1315,7949,9264,673,,36,9966\n",
    "20200311,51,1053,5978,7031,563,,27,7617\n",
    "20200310,51,778,3807,4585,469,,,5054\n",
    "20200309,51,584,3367,3951,313,,,4264\n",
    "20200308,51,417,2335,2752,347,,,3099\n",
    "20200307,51,341,1809,2150,602,,,2752\n",
    "20200306,36,223,1571,1794,458,,,2252\n",
    "20200305,24,176,953,1129,197,,,1326\n",
    "20200304,14,118,748,866,103,,,969`\n",
    "\n",
    "For some days there were no observations and so you just get two commas right next to each other. (I might hve coded a zero, but such is life.) These data are part of the [COVID Tracking Project](https://covidtracking.com/) maintained by Alexis Madrigal. A CSV is readable by Excel or any spreadsheet program (should you want to go that way) -- you can export an Excel spreadsheet as a CSV also. But handing around spreadsheets is so 1980. The modern way to share data is via an API. \n",
    "\n",
    "**API - Application Programming Interface**\n",
    "\n",
    "As bonus, we are going to take a second and have a look at [the Application Programming Interface (API) designed by the COVID Tracking team.](https://github.com/COVID19Tracking/covid-tracking-api) An API is a way for you to specify a request for data and have it returned in a machine-readable form. It extends the idea that your web browser makes requests and displays web pages. Now instead of HTML \"data\" you are posting requests for and receiving a CSV, say. \n",
    "\n",
    "When we downloaded the CSV from `covidtracking.com`, we were in fact making a data selection from an API. That same API could return for us just the data from New York state, say --https://covidtracking.com/api/states/daily.csv?state=NY. Or all the data from California from Sunday -- https://covidtracking.com/api/states/daily.csv?state=NY&date=20200322.\n",
    "\n",
    "\n",
    "**Back to R**\n",
    "\n",
    "To pull this data into R, we will use a \"function.\" Everything you execute in R, every command, involves executing a function in some way. Through functions, we encapsulate operations that we have to perform repeatedly. In the cell below, we use the function read.csv() which does what you might expect -- It reads data in a CSV (comma separated values) file.\n",
    "\n",
    "You can also ask for help about any function in R using, well, another function called `help()`."
   ]
  },
  {
   "cell_type": "code",
   "execution_count": null,
   "metadata": {},
   "outputs": [],
   "source": [
    "help(read.csv)"
   ]
  },
  {
   "cell_type": "markdown",
   "metadata": {},
   "source": [
    "From this help page, you see how you can read in a data set and the different \"arguments\" that might alter the way the data are interpreted or the operation is performed. Below we will call read.csv() using an \"argument\" to describe where the file is we'd like to read from. Here we'll just use the URL (the API call) for all the daily COVID testing data from the US."
   ]
  },
  {
   "cell_type": "code",
   "execution_count": 4,
   "metadata": {},
   "outputs": [
    {
     "data": {
      "text/html": [
       "<table>\n",
       "<thead><tr><th scope=col>date</th><th scope=col>states</th><th scope=col>positive</th><th scope=col>negative</th><th scope=col>posNeg</th><th scope=col>pending</th><th scope=col>hospitalized</th><th scope=col>death</th><th scope=col>total</th></tr></thead>\n",
       "<tbody>\n",
       "\t<tr><td>20200323</td><td>56      </td><td>42164   </td><td>237321  </td><td>279485  </td><td>14571   </td><td>3325    </td><td>471     </td><td>294056  </td></tr>\n",
       "\t<tr><td>20200322</td><td>56      </td><td>31888   </td><td>193463  </td><td>225351  </td><td> 2842   </td><td>2554    </td><td>398     </td><td>228216  </td></tr>\n",
       "\t<tr><td>20200321</td><td>56      </td><td>23203   </td><td>155909  </td><td>179112  </td><td> 3477   </td><td>1964    </td><td>272     </td><td>182589  </td></tr>\n",
       "\t<tr><td>20200320</td><td>56      </td><td>17038   </td><td>118147  </td><td>135185  </td><td> 3336   </td><td>  NA    </td><td>219     </td><td>138521  </td></tr>\n",
       "\t<tr><td>20200319</td><td>56      </td><td>11723   </td><td> 89119  </td><td>100842  </td><td> 3025   </td><td>  NA    </td><td>160     </td><td>103867  </td></tr>\n",
       "\t<tr><td>20200318</td><td>56      </td><td> 7731   </td><td> 66225  </td><td> 73956  </td><td> 2538   </td><td>  NA    </td><td>112     </td><td> 76495  </td></tr>\n",
       "\t<tr><td>20200317</td><td>56      </td><td> 5723   </td><td> 47604  </td><td> 53327  </td><td> 1687   </td><td>  NA    </td><td> 90     </td><td> 54957  </td></tr>\n",
       "\t<tr><td>20200316</td><td>56      </td><td> 4019   </td><td> 36104  </td><td> 40123  </td><td> 1691   </td><td>  NA    </td><td> 71     </td><td> 41714  </td></tr>\n",
       "\t<tr><td>20200315</td><td>51      </td><td> 3173   </td><td> 22548  </td><td> 25721  </td><td> 2242   </td><td>  NA    </td><td> 60     </td><td> 27963  </td></tr>\n",
       "\t<tr><td>20200314</td><td>51      </td><td> 2450   </td><td> 17102  </td><td> 19552  </td><td> 1236   </td><td>  NA    </td><td> 49     </td><td> 20789  </td></tr>\n",
       "\t<tr><td>20200313</td><td>51      </td><td> 1922   </td><td> 13613  </td><td> 15535  </td><td> 1130   </td><td>  NA    </td><td> 39     </td><td> 16665  </td></tr>\n",
       "\t<tr><td>20200312</td><td>51      </td><td> 1315   </td><td>  7949  </td><td>  9264  </td><td>  673   </td><td>  NA    </td><td> 36     </td><td>  9966  </td></tr>\n",
       "\t<tr><td>20200311</td><td>51      </td><td> 1053   </td><td>  5978  </td><td>  7031  </td><td>  563   </td><td>  NA    </td><td> 27     </td><td>  7617  </td></tr>\n",
       "\t<tr><td>20200310</td><td>51      </td><td>  778   </td><td>  3807  </td><td>  4585  </td><td>  469   </td><td>  NA    </td><td> NA     </td><td>  5054  </td></tr>\n",
       "\t<tr><td>20200309</td><td>51      </td><td>  584   </td><td>  3367  </td><td>  3951  </td><td>  313   </td><td>  NA    </td><td> NA     </td><td>  4264  </td></tr>\n",
       "\t<tr><td>20200308</td><td>51      </td><td>  417   </td><td>  2335  </td><td>  2752  </td><td>  347   </td><td>  NA    </td><td> NA     </td><td>  3099  </td></tr>\n",
       "\t<tr><td>20200307</td><td>51      </td><td>  341   </td><td>  1809  </td><td>  2150  </td><td>  602   </td><td>  NA    </td><td> NA     </td><td>  2752  </td></tr>\n",
       "\t<tr><td>20200306</td><td>36      </td><td>  223   </td><td>  1571  </td><td>  1794  </td><td>  458   </td><td>  NA    </td><td> NA     </td><td>  2252  </td></tr>\n",
       "\t<tr><td>20200305</td><td>24      </td><td>  176   </td><td>   953  </td><td>  1129  </td><td>  197   </td><td>  NA    </td><td> NA     </td><td>  1326  </td></tr>\n",
       "\t<tr><td>20200304</td><td>14      </td><td>  118   </td><td>   748  </td><td>   866  </td><td>  103   </td><td>  NA    </td><td> NA     </td><td>   969  </td></tr>\n",
       "</tbody>\n",
       "</table>\n"
      ],
      "text/latex": [
       "\\begin{tabular}{r|lllllllll}\n",
       " date & states & positive & negative & posNeg & pending & hospitalized & death & total\\\\\n",
       "\\hline\n",
       "\t 20200323 & 56       & 42164    & 237321   & 279485   & 14571    & 3325     & 471      & 294056  \\\\\n",
       "\t 20200322 & 56       & 31888    & 193463   & 225351   &  2842    & 2554     & 398      & 228216  \\\\\n",
       "\t 20200321 & 56       & 23203    & 155909   & 179112   &  3477    & 1964     & 272      & 182589  \\\\\n",
       "\t 20200320 & 56       & 17038    & 118147   & 135185   &  3336    &   NA     & 219      & 138521  \\\\\n",
       "\t 20200319 & 56       & 11723    &  89119   & 100842   &  3025    &   NA     & 160      & 103867  \\\\\n",
       "\t 20200318 & 56       &  7731    &  66225   &  73956   &  2538    &   NA     & 112      &  76495  \\\\\n",
       "\t 20200317 & 56       &  5723    &  47604   &  53327   &  1687    &   NA     &  90      &  54957  \\\\\n",
       "\t 20200316 & 56       &  4019    &  36104   &  40123   &  1691    &   NA     &  71      &  41714  \\\\\n",
       "\t 20200315 & 51       &  3173    &  22548   &  25721   &  2242    &   NA     &  60      &  27963  \\\\\n",
       "\t 20200314 & 51       &  2450    &  17102   &  19552   &  1236    &   NA     &  49      &  20789  \\\\\n",
       "\t 20200313 & 51       &  1922    &  13613   &  15535   &  1130    &   NA     &  39      &  16665  \\\\\n",
       "\t 20200312 & 51       &  1315    &   7949   &   9264   &   673    &   NA     &  36      &   9966  \\\\\n",
       "\t 20200311 & 51       &  1053    &   5978   &   7031   &   563    &   NA     &  27      &   7617  \\\\\n",
       "\t 20200310 & 51       &   778    &   3807   &   4585   &   469    &   NA     &  NA      &   5054  \\\\\n",
       "\t 20200309 & 51       &   584    &   3367   &   3951   &   313    &   NA     &  NA      &   4264  \\\\\n",
       "\t 20200308 & 51       &   417    &   2335   &   2752   &   347    &   NA     &  NA      &   3099  \\\\\n",
       "\t 20200307 & 51       &   341    &   1809   &   2150   &   602    &   NA     &  NA      &   2752  \\\\\n",
       "\t 20200306 & 36       &   223    &   1571   &   1794   &   458    &   NA     &  NA      &   2252  \\\\\n",
       "\t 20200305 & 24       &   176    &    953   &   1129   &   197    &   NA     &  NA      &   1326  \\\\\n",
       "\t 20200304 & 14       &   118    &    748   &    866   &   103    &   NA     &  NA      &    969  \\\\\n",
       "\\end{tabular}\n"
      ],
      "text/markdown": [
       "\n",
       "date | states | positive | negative | posNeg | pending | hospitalized | death | total | \n",
       "|---|---|---|---|---|---|---|---|---|---|---|---|---|---|---|---|---|---|---|---|\n",
       "| 20200323 | 56       | 42164    | 237321   | 279485   | 14571    | 3325     | 471      | 294056   | \n",
       "| 20200322 | 56       | 31888    | 193463   | 225351   |  2842    | 2554     | 398      | 228216   | \n",
       "| 20200321 | 56       | 23203    | 155909   | 179112   |  3477    | 1964     | 272      | 182589   | \n",
       "| 20200320 | 56       | 17038    | 118147   | 135185   |  3336    |   NA     | 219      | 138521   | \n",
       "| 20200319 | 56       | 11723    |  89119   | 100842   |  3025    |   NA     | 160      | 103867   | \n",
       "| 20200318 | 56       |  7731    |  66225   |  73956   |  2538    |   NA     | 112      |  76495   | \n",
       "| 20200317 | 56       |  5723    |  47604   |  53327   |  1687    |   NA     |  90      |  54957   | \n",
       "| 20200316 | 56       |  4019    |  36104   |  40123   |  1691    |   NA     |  71      |  41714   | \n",
       "| 20200315 | 51       |  3173    |  22548   |  25721   |  2242    |   NA     |  60      |  27963   | \n",
       "| 20200314 | 51       |  2450    |  17102   |  19552   |  1236    |   NA     |  49      |  20789   | \n",
       "| 20200313 | 51       |  1922    |  13613   |  15535   |  1130    |   NA     |  39      |  16665   | \n",
       "| 20200312 | 51       |  1315    |   7949   |   9264   |   673    |   NA     |  36      |   9966   | \n",
       "| 20200311 | 51       |  1053    |   5978   |   7031   |   563    |   NA     |  27      |   7617   | \n",
       "| 20200310 | 51       |   778    |   3807   |   4585   |   469    |   NA     |  NA      |   5054   | \n",
       "| 20200309 | 51       |   584    |   3367   |   3951   |   313    |   NA     |  NA      |   4264   | \n",
       "| 20200308 | 51       |   417    |   2335   |   2752   |   347    |   NA     |  NA      |   3099   | \n",
       "| 20200307 | 51       |   341    |   1809   |   2150   |   602    |   NA     |  NA      |   2752   | \n",
       "| 20200306 | 36       |   223    |   1571   |   1794   |   458    |   NA     |  NA      |   2252   | \n",
       "| 20200305 | 24       |   176    |    953   |   1129   |   197    |   NA     |  NA      |   1326   | \n",
       "| 20200304 | 14       |   118    |    748   |    866   |   103    |   NA     |  NA      |    969   | \n",
       "\n",
       "\n"
      ],
      "text/plain": [
       "   date     states positive negative posNeg pending hospitalized death total \n",
       "1  20200323 56     42164    237321   279485 14571   3325         471   294056\n",
       "2  20200322 56     31888    193463   225351  2842   2554         398   228216\n",
       "3  20200321 56     23203    155909   179112  3477   1964         272   182589\n",
       "4  20200320 56     17038    118147   135185  3336     NA         219   138521\n",
       "5  20200319 56     11723     89119   100842  3025     NA         160   103867\n",
       "6  20200318 56      7731     66225    73956  2538     NA         112    76495\n",
       "7  20200317 56      5723     47604    53327  1687     NA          90    54957\n",
       "8  20200316 56      4019     36104    40123  1691     NA          71    41714\n",
       "9  20200315 51      3173     22548    25721  2242     NA          60    27963\n",
       "10 20200314 51      2450     17102    19552  1236     NA          49    20789\n",
       "11 20200313 51      1922     13613    15535  1130     NA          39    16665\n",
       "12 20200312 51      1315      7949     9264   673     NA          36     9966\n",
       "13 20200311 51      1053      5978     7031   563     NA          27     7617\n",
       "14 20200310 51       778      3807     4585   469     NA          NA     5054\n",
       "15 20200309 51       584      3367     3951   313     NA          NA     4264\n",
       "16 20200308 51       417      2335     2752   347     NA          NA     3099\n",
       "17 20200307 51       341      1809     2150   602     NA          NA     2752\n",
       "18 20200306 36       223      1571     1794   458     NA          NA     2252\n",
       "19 20200305 24       176       953     1129   197     NA          NA     1326\n",
       "20 20200304 14       118       748      866   103     NA          NA      969"
      ]
     },
     "metadata": {},
     "output_type": "display_data"
    }
   ],
   "source": [
    "covid <- read.csv(\"https://covidtracking.com/api/us/daily.csv\")\n",
    "covid"
   ]
  },
  {
   "cell_type": "markdown",
   "metadata": {},
   "source": [
    "A table! Well, in R it's called a `Data Frame`, but you get the idea. Notice that when we read the table into R, the empty cells (those with no characters between consecutive commas) are recorded as NA or not available. \n",
    "\n",
    "Read data from just New York state and store it in a variable called `covidny`."
   ]
  },
  {
   "cell_type": "code",
   "execution_count": null,
   "metadata": {},
   "outputs": [],
   "source": [
    "# Your code here\n",
    "\n"
   ]
  },
  {
   "cell_type": "markdown",
   "metadata": {},
   "source": [
    "**Scraping**\n",
    "\n",
    "Now, not all data are distributed so nicely with an API that we can call. Sometimes you have to get a little dirty. For example, the [Wikipedia page on the virus](https://en.wikipedia.org/wiki/2020_coronavirus_pandemic_in_the_United_States) has several tables on it. The fourth (got ahead, look at the page source) is about when each state ordered a lockdown. \n",
    "\n",
    "We can use a `package` in R called `rvest` (R developers love playing with the \"r\" sound - `rvest`, harvest, ha). A package is a way for you to share your code with others. The community around R has contributed a staggering number of packages. You can find them on https://www.r-project.org/. \n",
    "\n",
    "In the code below, we load up the `rvest` library, giving us access to new functions and data. In this case, we will use the functions `read_html()` that goes out and reads a web page, and then from that page we are going to use `html_table()` to turn an HTML table into a Data Frame. Again, don't worry, this is just to show you that R can support you in a variety of data tasks, including simple web scraping. "
   ]
  },
  {
   "cell_type": "code",
   "execution_count": null,
   "metadata": {},
   "outputs": [],
   "source": [
    "library(rvest)\n",
    "\n",
    "table <- read_html(\"https://en.wikipedia.org/wiki/2020_coronavirus_pandemic_in_the_United_States\")\n",
    "\n",
    "# lockdown orders - don't worry, this is a lot of \n",
    "tables <- html_nodes(tt,\"table\")\n",
    "lockdown <- html_table(tables[[4]])\n",
    "\n",
    "lockdown"
   ]
  },
  {
   "cell_type": "code",
   "execution_count": null,
   "metadata": {},
   "outputs": [],
   "source": [
    "covid"
   ]
  },
  {
   "cell_type": "markdown",
   "metadata": {},
   "source": [
    "Those of you taking data classes know that a fair bit of time is spent subsetting your data, creating new columns from old ones, identifying outliers, computing descriptive statistics and, in these breakfasts, fitting models and performing statistical inference. In R, we can pull out the data from a single column by using the `$` sign. "
   ]
  },
  {
   "cell_type": "code",
   "execution_count": null,
   "metadata": {},
   "outputs": [],
   "source": [
    "covid$positive"
   ]
  },
  {
   "cell_type": "markdown",
   "metadata": {},
   "source": [
    "The result is called a vector, but you can just think of it as a column of data. The nice thing is that we can operate on these columns like whole objects -- here addition is entrywise, one sum per row..."
   ]
  },
  {
   "cell_type": "code",
   "execution_count": null,
   "metadata": {},
   "outputs": [],
   "source": [
    "covid$positive+covid$negative"
   ]
  },
  {
   "cell_type": "markdown",
   "metadata": {},
   "source": [
    "... and the same applies here but we are taking elementwise division to compute the fraction of tests that are positive."
   ]
  },
  {
   "cell_type": "code",
   "execution_count": null,
   "metadata": {},
   "outputs": [],
   "source": [
    "covid$positive/covid$posNeg"
   ]
  },
  {
   "cell_type": "markdown",
   "metadata": {},
   "source": [
    "While `+` and `/` are arithmetic operators, there are a number of \"logical\" operators that test conditions and return `TRUE` or `FALSE`. Here we look for the days where the rate of positives was greater than 12%."
   ]
  },
  {
   "cell_type": "code",
   "execution_count": null,
   "metadata": {},
   "outputs": [],
   "source": [
    "covid$positive/covid$posNeg > 0.12"
   ]
  },
  {
   "cell_type": "markdown",
   "metadata": {},
   "source": [
    "**A little more formal**\n",
    "\n",
    "The syntax so far is pretty simple. We have a data frame, R's answer to a simple table of data, and we are using dollar signs to extract data from the table. We will see simple functions that can summarize or do other things to the data, and we have seen simple logical operators that return TRUE/FALSE values depending on whether our data meet certain conditions. \n",
    "\n",
    "Much of statistics has to do with simple manipulations on tables. It's so important, in fact, that people have contributed tools that make these operations easy. We'll introduce them while looking at data and relating our computations to reported stories about crime. A tall order! \n",
    "\n",
    "As I said above, tools are added to R in the form of **packages**. A package is simply a bundle of code and data. Again, by authoring packages, people can contribute new functionality to the R language. In the case we will look at now, the package was written by [Hadley Wickham](http://hadley.nz/), and, as we said, introduces new functions to make table manipulations a little simpler. The package is called **dplyr.**\n",
    "\n",
    "To learn about a package, we can read the documentation provided by its author. [Here is the documentation for dplyr](https://cran.r-project.org/web/packages/dplyr/index.html). It can be a little opaque. Sometimes, however, when people create a package in R, they also write a **vignette** that walks you through how to use the data and commands in the package. That is true for dplyr, and you can read the [vignette for dplyr](https://cran.rstudio.com/web/packages/dplyr/vignettes/introduction.html) after we've run through this brief introduction. \n",
    "\n",
    "You can think of R as being driven by \"verbs\". We have seen `read.csv()` and `help()`, for example. In making his package, Hadley introduced new verbs into the language. We'll show how to use them in the examples below. In each case, **the functions take a table (a data frame) as input and return another, altered data frame as output.** These functions let you specify subsets, sort on columns, and create new columns. But in each case, you give a table and you get a table.\n",
    "\n",
    "- filter()\n",
    "- arrange()\n",
    "- select()\n",
    "- distinct()\n",
    "- mutate()\n",
    "- summarise()\n",
    "- group_by()\n",
    "- sample_n()\n",
    "\n",
    "We will use these next time as we look at more data related to COVID19. As a preview, here is how we might add a column to a data set..."
   ]
  },
  {
   "cell_type": "code",
   "execution_count": null,
   "metadata": {},
   "outputs": [],
   "source": [
    "mutate(covid,fraction=positive/posNeg)"
   ]
  },
  {
   "cell_type": "markdown",
   "metadata": {},
   "source": [
    "If we want to save the table with this new column, we need to give it a name. We could overwrite `covid`, but here we give it a new name `mycovid`."
   ]
  },
  {
   "cell_type": "code",
   "execution_count": null,
   "metadata": {},
   "outputs": [],
   "source": [
    "mycovid <- mutate(covid,fraction=positive/posNeg)"
   ]
  },
  {
   "cell_type": "markdown",
   "metadata": {},
   "source": [
    "Next time we will start to do some analysis with these data. For now, I'll leave you with a simple plot."
   ]
  },
  {
   "cell_type": "code",
   "execution_count": null,
   "metadata": {},
   "outputs": [],
   "source": [
    "library(ggplot2)\n",
    "library(lubridate)\n",
    "\n",
    "qplot(ymd(date),total,data=covid)"
   ]
  },
  {
   "cell_type": "code",
   "execution_count": null,
   "metadata": {},
   "outputs": [],
   "source": [
    "qplot(ymd(date),fraction,data=mycovid,geom=c(\"line\"))"
   ]
  }
 ],
 "metadata": {
  "kernelspec": {
   "display_name": "R",
   "language": "R",
   "name": "ir"
  },
  "language_info": {
   "codemirror_mode": "r",
   "file_extension": ".r",
   "mimetype": "text/x-r-source",
   "name": "R",
   "pygments_lexer": "r",
   "version": "3.5.0"
  }
 },
 "nbformat": 4,
 "nbformat_minor": 2
}
